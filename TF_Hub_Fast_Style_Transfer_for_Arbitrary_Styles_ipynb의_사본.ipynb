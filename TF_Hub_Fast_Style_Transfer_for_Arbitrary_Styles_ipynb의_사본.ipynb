{
  "nbformat": 4,
  "nbformat_minor": 0,
  "metadata": {
    "accelerator": "GPU",
    "colab": {
      "name": "TF-Hub: Fast Style Transfer for Arbitrary Styles.ipynb의 사본",
      "provenance": [],
      "private_outputs": true,
      "collapsed_sections": [],
      "toc_visible": true,
      "include_colab_link": true
    },
    "kernelspec": {
      "display_name": "Python 3",
      "name": "python3"
    }
  },
  "cells": [
    {
      "cell_type": "markdown",
      "metadata": {
        "id": "view-in-github",
        "colab_type": "text"
      },
      "source": [
        "<a href=\"https://colab.research.google.com/github/gy7559/document/blob/master/TF_Hub_Fast_Style_Transfer_for_Arbitrary_Styles_ipynb%EC%9D%98_%EC%82%AC%EB%B3%B8.ipynb\" target=\"_parent\"><img src=\"https://colab.research.google.com/assets/colab-badge.svg\" alt=\"Open In Colab\"/></a>"
      ]
    },
    {
      "cell_type": "markdown",
      "metadata": {
        "id": "ScitaPqhKtuW"
      },
      "source": [
        "##### Copyright 2019 The TensorFlow Hub Authors.\n",
        "\n",
        "Licensed under the Apache License, Version 2.0 (the \"License\");"
      ]
    },
    {
      "cell_type": "code",
      "metadata": {
        "id": "jvztxQ6VsK2k"
      },
      "source": [
        "# Copyright 2019 The TensorFlow Hub Authors. All Rights Reserved.\n",
        "#\n",
        "# Licensed under the Apache License, Version 2.0 (the \"License\");\n",
        "# you may not use this file except in compliance with the License.\n",
        "# You may obtain a copy of the License at\n",
        "#\n",
        "#     http://www.apache.org/licenses/LICENSE-2.0\n",
        "#\n",
        "# Unless required by applicable law or agreed to in writing, software\n",
        "# distributed under the License is distributed on an \"AS IS\" BASIS,\n",
        "# WITHOUT WARRANTIES OR CONDITIONS OF ANY KIND, either express or implied.\n",
        "# See the License for the specific language governing permissions and\n",
        "# limitations under the License.\n",
        "# =============================================================================="
      ],
      "execution_count": null,
      "outputs": []
    },
    {
      "cell_type": "markdown",
      "metadata": {
        "id": "oXlcl8lqBgAD"
      },
      "source": [
        "# Fast Style Transfer for Arbitrary Styles\n"
      ]
    },
    {
      "cell_type": "markdown",
      "metadata": {
        "id": "MfBg1C5NB3X0"
      },
      "source": [
        "<table class=\"tfo-notebook-buttons\" align=\"left\">\n",
        "  <td>\n",
        "    <a target=\"_blank\" href=\"https://www.tensorflow.org/hub/tutorials/tf2_arbitrary_image_stylization\"><img src=\"https://www.tensorflow.org/images/tf_logo_32px.png\" />View on TensorFlow.org</a>\n",
        "  </td>\n",
        "  <td>\n",
        "    <a target=\"_blank\" href=\"https://colab.research.google.com/github/tensorflow/hub/blob/master/examples/colab/tf2_arbitrary_image_stylization.ipynb\"><img src=\"https://www.tensorflow.org/images/colab_logo_32px.png\" />Run in Google Colab</a>\n",
        "  </td>\n",
        "  <td>\n",
        "    <a target=\"_blank\" href=\"https://github.com/tensorflow/hub/blob/master/examples/colab/tf2_arbitrary_image_stylization.ipynb\"><img src=\"https://www.tensorflow.org/images/GitHub-Mark-32px.png\" />View on GitHub</a>\n",
        "  </td>\n",
        "  <td>\n",
        "    <a href=\"https://storage.googleapis.com/tensorflow_docs/hub/examples/colab/tf2_arbitrary_image_stylization.ipynb\"><img src=\"https://www.tensorflow.org/images/download_logo_32px.png\" />Download notebook</a>\n",
        "  </td>\n",
        "  <td>\n",
        "    <a href=\"https://tfhub.dev/google/magenta/arbitrary-image-stylization-v1-256/2\"><img src=\"https://www.tensorflow.org/images/hub_logo_32px.png\" />See TF Hub model</a>\n",
        "  </td>\n",
        "</table>"
      ]
    },
    {
      "cell_type": "markdown",
      "metadata": {
        "id": "YeeuYzbZcJzs"
      },
      "source": [
        "Based on the model code in [magenta](https://github.com/tensorflow/magenta/tree/master/magenta/models/arbitrary_image_stylization) and the publication:\n",
        "\n",
        "[Exploring the structure of a real-time, arbitrary neural artistic stylization\n",
        "network](https://arxiv.org/abs/1705.06830).\n",
        "*Golnaz Ghiasi, Honglak Lee,\n",
        "Manjunath Kudlur, Vincent Dumoulin, Jonathon Shlens*,\n",
        "Proceedings of the British Machine Vision Conference (BMVC), 2017.\n"
      ]
    },
    {
      "cell_type": "markdown",
      "metadata": {
        "id": "TaM8BVxrCA2E"
      },
      "source": [
        "## Setup"
      ]
    },
    {
      "cell_type": "markdown",
      "metadata": {
        "id": "J65jog2ncJzt"
      },
      "source": [
        "Let's start with importing TF-2 and all relevant dependencies."
      ]
    },
    {
      "cell_type": "code",
      "metadata": {
        "id": "v-KXRY5XBu2u"
      },
      "source": [
        "import functools\n",
        "import os\n",
        "\n",
        "from matplotlib import gridspec\n",
        "import matplotlib.pylab as plt\n",
        "import numpy as np\n",
        "import tensorflow as tf\n",
        "import tensorflow_hub as hub\n",
        "\n",
        "print(\"TF Version: \", tf.__version__)\n",
        "print(\"TF-Hub version: \", hub.__version__)\n",
        "print(\"Eager mode enabled: \", tf.executing_eagerly())\n",
        "print(\"GPU available: \", tf.test.is_gpu_available())"
      ],
      "execution_count": null,
      "outputs": []
    },
    {
      "cell_type": "code",
      "metadata": {
        "id": "tsoDv_9geoZn"
      },
      "source": [
        "# @title Define image loading and visualization functions  { display-mode: \"form\" }\n",
        "\n",
        "def crop_center(image):\n",
        "  \"\"\"Returns a cropped square image.\"\"\"\n",
        "  shape = image.shape\n",
        "  new_shape = min(shape[1], shape[2])\n",
        "  offset_y = max(shape[1] - shape[2], 0) // 2\n",
        "  offset_x = max(shape[2] - shape[1], 0) // 2\n",
        "  image = tf.image.crop_to_bounding_box(\n",
        "      image, offset_y, offset_x, new_shape, new_shape)\n",
        "  return image\n",
        "\n",
        "@functools.lru_cache(maxsize=None)\n",
        "def load_image(image_url, image_size=(256, 256), preserve_aspect_ratio=True):\n",
        "  \"\"\"Loads and preprocesses images.\"\"\"\n",
        "  # Cache image file locally.\n",
        "  image_path = tf.keras.utils.get_file(os.path.basename(image_url)[-128:], image_url)\n",
        "  # Load and convert to float32 numpy array, add batch dimension, and normalize to range [0, 1].\n",
        "  img = plt.imread(image_path).astype(np.float32)[np.newaxis, ...]\n",
        "  if img.max() > 1.0:\n",
        "    img = img / 255.\n",
        "  if len(img.shape) == 3:\n",
        "    img = tf.stack([img, img, img], axis=-1)\n",
        "  img = crop_center(img)\n",
        "  img = tf.image.resize(img, image_size, preserve_aspect_ratio=True)\n",
        "  return img\n",
        "\n",
        "def show_n(images, titles=('',)):\n",
        "  n = len(images)\n",
        "  image_sizes = [image.shape[1] for image in images]\n",
        "  w = (image_sizes[0] * 6) // 320\n",
        "  plt.figure(figsize=(w  * n, w))\n",
        "  gs = gridspec.GridSpec(1, n, width_ratios=image_sizes)\n",
        "  for i in range(n):\n",
        "    plt.subplot(gs[i])\n",
        "    plt.imshow(images[i][0], aspect='equal')\n",
        "    plt.axis('off')\n",
        "    plt.title(titles[i] if len(titles) > i else '')\n",
        "  plt.show()\n"
      ],
      "execution_count": null,
      "outputs": []
    },
    {
      "cell_type": "markdown",
      "metadata": {
        "id": "8etHh05-CJHc"
      },
      "source": [
        "Let's get as well some images to play with."
      ]
    },
    {
      "cell_type": "code",
      "metadata": {
        "id": "dRc0vat3Alzo"
      },
      "source": [
        "# @title Load example images  { display-mode: \"form\" }\n",
        "\n",
        "content_image_url = 'https://ifh.cc/g/Q4DRQF.jpg'  # @param {type:\"string\"}\n",
        "style_image_url = 'data:image/jpeg;base64,/9j/4AAQSkZJRgABAQAAAQABAAD/2wCEAAkGBxMTEhUTExMVFhMXGBwbGRcXGBgbGhoaHSAaIR0eHyAeHiggHRsmHxsdITIiJyktLjAuGyAzODMtNygtLisBCgoKDg0OGxAQGysmICYtKzAyLTYvLTIrMi0tNS0tLS0vLy0vLS0vLS0tLS0tLTA1LTUtLS0tLS0tLS0tLS0tLf/AABEIAMYA/gMBIgACEQEDEQH/xAAcAAACAwEBAQEAAAAAAAAAAAAEBQIDBgEABwj/xABAEAACAQMCBAUCBAMGBQQDAQABAhEDEiEAMQQiQVEFEzJhcUKBBiORoRRSsTNicsHh8BVDgpLRU6Ky8RYkYwf/xAAaAQADAQEBAQAAAAAAAAAAAAABAgMEAAUG/8QALxEAAgICAQMCBAUFAQEAAAAAAQIAEQMhEgQxQSJRE4HR8BQyYXGRBaGxweFSFf/aAAwDAQACEQMRAD8AwfB1bWDREGQSxaD0OSf1xrdeGcTdaxAZT9GVaBhTmBCmBcCOZDzbDXz3h+KfYEFgJyO0ZGY/b9NM6XiFQMHCic4WVt/mwpULO+IEx8H6TLgD6mMGpvaniJ8rnaQoF02hiQDPpABPy32GlXi3idNKUOjfmEsDBBPQnY242kZtBOxGkFPxBiHvF5ZcubQQIgZWnIMjf9sZGbiWICvBAmASesnJmWOevSNtRw9AuM0uhGOQkb3LqQJH1zG5BA7Y76D4HjfzHVKmPeN5Ia3mHz1399FrxBphmjAUnlI+kHfmOkvhVFkqi0kAK2QQMrAbcncicxsdaMuUjIgEVVBBj9uM4myxa9QKbRimAQF2UGJA/X/zPhmhfzK4fHo4gVwvtJHb56aEVnYzLGO4Un+uRolWMklVPs1NbTGQIOq/CXfGJ27wGqzXmTRAJn8tiyEEQPVP9Sca1nA+JoipLIcW/lkHMraWDlXI5PUNowdZ5a5DAonD0zmQiMcYiV8sqTjfRR4psCoAVOIamoH+YA6dN8RpDiDKAY7maLiPGEqU6pDiiAQLXDqCDA3iCcnY9JzEEJ/HVNih7npMSXDmSbgw5lYjcmYu32Eaz3F8NLFgJJOyqyiPnb94/XU34VRaQGB/xzn2ABPTqdIOkRfMXkupr6LlmLXqJExEAAkFWAnlUGeh2wJ3X+McZStEV1YsZ5adoIOOpAxk7RzdIA0mBNoUuxVTgkKY9gSJjPfVLcklbiSZ6TnrzMTJ31HB/T+D8y0Z83IcajPhFdgzB7ACbVFRF6RJCRed8n9OugatGFF9d4Vw1qD1PItyfpBj6hmTG2iUDOB5l604EyyCfgXer3J66geKNPFJKvTmqVpj/qtLHvylRk/bUyDsJFWJHeQasVmDaDkAg3Qccx9MFgTAnqOmvcGjFxk+oADPU9s/+cYA1UKJqOCzlmJGF2A6bliOuT+um/hieXUu9OCI5nE9LztAIG3WfclnsKYpZRqaIVgqgKR5hskbQvLaJ6CHA5fbuZt4quEjlFxmZYQbiIUj7HHqyY7ijharWgsoDLsfpuIAkjPKSJBmCCVwd4UqyorMHZiWBCBCciSBIIAJkkkAA4MTJPzmf4/O17XNafDI3APE6KoEVQxV2NoEllnc5Oac5uwRIgnJ0ro0jU5SzBV+ciCWHsMxO+fsWXH07itWCwUhCSw5SwBERmQpOevKd9JvFvEApaleRUC3C4EYkEGROQRJgH7b69PpnPH1yTqLAEhTrfmm4XGbmUHHsve0DHzgR1pr+MB6LhCCxNvsmR6J3OcE9RvjVfhr0xgMPJqFJcxIQQcg+nCsPmDtAMPD+Ip+WC8I71GaMABpawSMQCHb4j21c5N17w8dRx+H0s4a+wAgFUkZJGCf+6M9SB03p4tjaA5uyuEmarwCB7jIJO3XO2jqsM1lMSgNm+yxcYHwse8+86vp0meCCpYkyCCeUMBM/TeTb3wOuu+IBoyXHzJ+H0S8XQCkAglhkCSSZwJMAbkkk9dMadVUkmySSt74VTtt33OYPbaG9SpgrN2WuYtsLVzPSASYmd2WMDUOGpkVAziQIOIASRMREIwuEnpco9RBHn5up42JdcIajUPpcNIgKHJ9NwJkQIJUDkEZ5mBz7ao43w822hVEkyFZm2IO6ssZO5B1zj+KBgAFTA5riSCZjfriDk++2pUfEWBspoTEYDTE7TItX/PXiv1rK35t+2z9amtej5CwPnofSJKvCk2qsOAuVLlYmJtLYIPUSD2PTQNTh2DsEaCNwzWnHvBuE4B3xvp/4iVwXAVskkLi+TAa0gq4IjDGc7/Sm8Ur80lQFkwyrcTOQCIn0gZI+ckget0nUszfp9/KY82OhMPwtK3mmRJMjGcSD2j/AF7aMXHffoO423/prqcOFJSQY6mACDkCYx0/89dVeWQYNwA/Qznr869xG9pPuYVR9JiN5jY+2DIPX511FYEeiexEA7xkAD9o1NAuF5ZiWFou6dcDqNW1FE2+XeDtG8Z6bf104bcF+INVpny6l1sWNMAYEEbgDof6b6p/CfDeZVa8SoOSIkXMx+ojoCTkQsnpk3xEslJs8qq0KWckAg74AI+caM//AM9cKtSoWIa8cxEhhzcpORcbRA7FjmDrzesYq/IeBNGE8hNTwnh11NYhsEKERaQg5uIkADYSwOew0m8Z8MhDagDmGmQSdxkqzQSQZGQCojDQNanE/l01BIdIMoLrgLgBMGAST2MmZzOlviYEtVFMraWZWDKMp5YJw0FYV5iRzRGvH6TrMp6gijVj33LviAS5hqdNjAKgR1GR98QPkjtopaCkHqckG3B6fSpGqq5VQkqN7dnJdjnEAZgxGdpxr3kFmEqxaAVUghFB2aYlpjBztg9dfUHJUxUTJ+a6m1IXqWhG+2Rk57jVqcCHIUh6n80gDfsBIB9+s7dy+G4NgwESdyYFq5jA2HbO2c6PRKxYLRUeXAlhLMfct1j2EakzjvONeIvq/h+iBJSouf5nH6myANdThLIF0EZ+mTkdSDAmeoJ9taGl+H2gvVFRR1dqhRQOsypjr1j321bRHBLJpuDJ2DMMd7hUJ39v66zHrF/KLMKYW7kzPV6dOAXJZgeiooP6IbunX7aoq8MHPLWKxkpat+P7kioQfcffW04YIMh2KHotWs4APUqVB29++ucZwKikXpVKTACWTlI/vRcS5aOjECQND8UQYfh12mM4KkczYyj6hkYmLgWkExHQZ/SIbcIXEHABp/bvjp104oU6RVWIqBs/mKUJ67ggY6QWiOmmR4Sm6gvTvULMhZMCQTY4uI3kqTmcnbWj8RR2NSJF7EV8DUIADEMVJIGVz/dg56G049tFUuLuDBFdKhBJWptB/wDTYFkt3iCYxsNV0vD0J/LmIuFRDK2iZaCJWMAq0e06X8VVdagFoAEkPPLOP0AgHJkSSQRpG4ObESmGpaatqEilZUwoDNG8bMoODAiRJO92lFfhfNtSrePLqZDBSRccFWURGYtgQDMfSLaKJYyViSofyzvCzlZgysOqr/iIiMjTfgKDLh1ACQgqEtzQSbTbLF0IbsY67gKWWtxwpU67xNwfhKU2NxUs5fHKQMnIBB9twAIydUf8HK+UFMAVS3T+91uK5k4E77a1n8PSuYqWhckmY67QWIjOTG3zEeP4JWBJQOjAg/lhWURvic/682I0wyY20IOTjZitqLKahghAsxvILA+5gxbnYHUaVZi6tlakieXE3Lceu2Wz3+YMdVSmAgLKEIMndRJkHri4b4tPtqPDUuaGuAFVgfcG75w20+2pZdWRKY2tdxlwb3eYRhVVVAIgAANH2LBTA/kIzMaJdbEB3cyoDAEBwQB0k5abtsDExE6nlqxKvmpdEBsmLxOQAbQ0d9ttVcXNtNvpdWMwBzPDRMyMFSO5u7a+f6hyAxnoYhZAgnh/DF6qIDgk3HFwAmMf4QTEQOXcDJVSoZQJKSadtMEhQHV3BbPMcAmd7j7HVXh3EhKyVMZjIEEkzj5CmNMuL4VgylCWC+W6somQqlDA7zDR8gZjXndK6Cye/wDmbOpDa9op4viwIYxYQVO8tTG4kmCwEFTvsO0LuNoFAUvudGIJQG7rN0g4kSPn7ac10plbRDIrXAA9J2aNm6EZkAEe6p+IzLkXFUmSRg3EbGcm4duX216vS5dek9vH3+kw5E95mjFSmslRXpiGGcr0aexEEnvPQtCylxJVjTyDHpkEEHspyD8Se07aNisrUzSAO5CwSIBMryiWUGcjbJkQdXVBTqwAoRzM02aGCz9L+kpIkNFpyDBMn3lyldTJxv8AaBoqmAGR0EmMSh7RiI2yRv01PiKUGbKe4g5HfpMT1wf9bG8CLHzUVs4FQnM7QwMrIBjp8DVi8JUUzUovaRBIQ2468lwE+xGRrSmSIfeBeJOoo1IgOy5ADHG8Ax+37nXfwpxDCk1ptMkMf3nYkHpsdMqfAs5NotXEm6pEHupz333nHbSf8J20uLeg5KxeFliuV9QYrnYE/b31nzOgygnYqpRLKGu80h8amPykkAABC36gEkfYYHYDVfHeI1KrYDXmAEUEk7yMzBiMnAERo5OHpCBL1A2QlBSQ3Ys9SIEn3HtOdF0OIuQgU0QHoTN5B5V5Sbj3BONozBQHGptFFwkk9zEVHgmuMwp2Iw5zNyrsSx2lsDb5ajhD5rKCTUJuqcwNowBc7QASIGY6DpGmHA8EWAdmIcARaVQLTAIMtEU6cncGTm3uZV6dJWdEJtAhQMIDsS2SXYk4np2BI0jZvVQ7xuFjcV1DstRgskFaa5H3HVfdp2xGifC6tQEFXZcwri4nbYKrQM9fieg13heGaqwSiFYrEuZiAZNx2z13MDrM6v8AE/xMlH8umzO8ZenaiqJiZH0Sd2J3BBO2p5GJ9IjKKhviKW2vU86o2TNU2Ae6rcO4zI9tL0r5/s6TkiZJJI3MCGH+zvpK/ir1qjQq4PMY3j3OZ+QP6nRC8RhkYLOYAjPXpnvsenzq+DFxWj3kMztcZ1qKbtw5SR6rmUA9pecCAQAd/jU1pmLWFTpEMWI7k3Ek9OgmN9yVvDUwSGQEGSCUYxdvkKbvuR16aspDygQEZlG9EE2kjJ8vmmkwkCJK7YwYJUVYi8jdGHNwrOPNovTrhQCVg+aklgCc5FomCTscGNU8PSyCjOpEb7iIg43jrB7+8S8P40F+UgmpzUasQzGchgJJqD6lINwzBMAXeL8FcAxW2CCyoRyuJgqRgBhcQe6kRtoK9GjA6mhUK/i/KokgyqXX0wJcIwHPTYeobNA6KTGCNCcZ4cWpFlbCggwZFoggggzGZJnE46DVdWvVpEVIDFc4Eh6ZYyPgiWAmeYfGiOHrXk1Kaw2SUY5AAmR3AzjIOMTJE2BUkrGGwLmWp8Pa6qGg1C24kQBz0yNjiRE/USIga1vDqxUkHnAChf5mqLsvtcxP3jrpS9FVKD6b1tnMEG1T7wGUT8nTPg7ij0yJMGbIuKTEZjmEbAzIkbDXdUnLHY7xUyUwuOuG4JPTU5QpVAbTklZ/w2kXDMYj20ppJY5CBbAQGwYtyTafYqwHYsAB3NpcS2SSIYyGgSpxm3lEghYkQLQTsND8WgkqLMmFhrzIN0FhPS4kgfHfWHEH5blshQiJOIrQoLEYJgHYdCehsPX2jbfUFvBFv0yIPflhhJiY3PY/MF1KBYkyVIxuCABOcHrifjtoM1BTqKxnAIYDZlkbdAwIH2A3jXrupZJlxsFbUc02uRaylTUptAUwQygpOesKQl3S64kgaa0UUqFAPlkRaRBUS7J3Ii4r8qpOxnNlbHuUgBiCGBhRIMSDsCCR8yCSIYOuFrsLGtsfZTPK5jYkekkAFehIIxiPB63piByXt7Tbhy2aMWcbw4Q8uVGBBkRMd+gH/tEHc6nS4509Jhc43H75/wB7Ts1r8QgIDhFndXNuMYBBgiZ2kTEWnXH4Kim45ozJBXtsxtz99ydfOnpzofv96nsY+qFeoXELVjWKoWlSYJzgHJAAAJYyYG8mdW8TVRzDc3WxMssknMYG5EDbAkxib8RddatwXZVIRFxicAtM4AwdCni4Y2LSvOXaoBEzsIH+/sAvt9D0rINWZg6vqVyVqhM74ZxTUnIuFpJlcH43BkREEZg9DqFDh0v80qLhkXfVPcBsNkZBGZO2NVW3MAQQgEYBuP8AKD0xB7GJzjXhWanUtCLXpOO6JWU9t98jMAmdfQMAxszz1Y+IXXq12gSLG+ksXlf5bha5UTsSQJGSZ1KhfSIISSDt5ogSRBxLACQY+NQuaTCt3/MVHO+07xgAY7ZxorinA4fzi7KyvSyLiBNRQdmMYA5SR/nqb0vf/MopLdo1pJUrAF7bmAi3znY7QZcgAbZ2699fLvHqpTiqjKApFRisZthuUg9dpBjY63X4jdqVE22KQ6gFBJBDE5Mn6hMdcjXzmogZgScKoLdJGIHzBGs+YntKYgNmfXuB8ac0EqpTWalMM7kG0TIYlj7yIGI6Nqriai+UHJLgkG4pb5h6KqElvLH8zkAk9YUaC/BVItwNEhKZgNL1Fc287QVI5Z7A5nsNNafh3/P4qoWUGRmHczICAZkzkz79eUhgFgolpCpxL+WgqMymcrEtIgCApiZG4mNp1DheBFQySbSDaCjlqlskwTaCuNgy7RvErq/F0gbAxtd1V6iyXIJyEwT6QVkRIXWz8E4gIpIU2kpaaQuAVTHbmBi6Bjc76XLkONdRx6pm/wAQ8VxCUQqhEpkhFXCBmLEDBm4mDuYUgEjBjLDhbvyQLhdNao4IuI2ABgtGOY7TgZk7D8T10rUTaFFw81bxTJS0FUME4ZldTtIFNs5EKODCpSDGScRiCEBLMRjBhXg9PMB66ojWtmKIbw/hyIhclQFYLIMQxANoEC5ocHAH+LponhKaBHFoJc/Uub+wItJxLHt+seHFgtUqAghUFRVMGDyzEYkgU0+I9tCf8Q5m5RKhbCPUTLBZP0rKFrRuTmdtULMwg4iFrw9IK9RC61ABLYI6WFlA/MpkypMyt3Q5NyLJ5pVwbWkAwU5ckHmtb3yoI6AkutUFUBqBHmLQtKAQlS0AVOaNyrBsGRb7SFVWozVFpXXXqWDG0EEAoTEDIMHbPbbRTJyG5FklNUFbqYa0PTY0zmQ6C7B9iysD376Y8EWao1rH86kMAmL1KsQOgUsXEdjiJ1GrW81qcrDIM49KcpcHJkyGH3XuNd/D001QAMjuwCqchbU8wgYm0iyM799BjYPKNxoaneGDtSdnMiioWRAySq/sPp7Up+rSrgKrJWC05DPSpshG5tanAyYIa5t+hOtPwVYMEZlUSpLKQIeoVdST7TVpjO4PtoL8QVRTdKnKAHe0IogLTbBgA8pEQNsx7a5chvj7xStxCOIWspZGW5Ra0Ekg3W4EycHb599HUuIl1LASQWUExa535uknOOhbtBz/AOHOCqCvxIZYEqpnBUqTj5AIye4Gn9akeRihlobKOx6YIC4I7z0GDJi6Py2ZPKgXUZNXMFIaRB9VMAE7YAnfOw+2uLTJAvIgTAtumf8AqAUY6Ebn51RTLFQYaTuLTB2xDZHzOuIUgEUlYdgQc9PVT3n/AExqhC1qZlBujJ1kGGm04APyczLSQPk4nQFThJMjlF0QdgTtPafcQcER1v8AFGVpAovuIZSodT7XWycRg5nfB0JwVcsCAbpBGZYRtlf5ffPfHUq3tKcTVmHC0oF/s3QQVnDDcwYjcnk3xKj6VtocaAoRQFBgWNDoQN27rODbnYnQlaQAQsPBEjmBA2k5O3cRk5EGKqTXrcwgfftGOw2wCRPXU36UZBxJhGYrsR1wnjD2wwGDhgQWjMeq2cfcY9WgvEeLYwUpKwI5rVFOcnOAeaP69dDVa6kWwT7gEMMiOu/yJ0HxFVrBcrORGzHf7zJGc9tT/wDn4g3ICv8AcP4l6o+ZbW4oGA17MpMJU9PfpuM+4jpqpmU+ph9iB+hkAj4AA6AaXLQLQT5igSedkIzmOu/aIP6aY0OKMcq7YLGEU/Ayf1A1px41XtEyOxGos4ThW9KJe0R5ZIV7SeluGgxDASpGw2MFX+63qgKRzA/yxbkzGd/YHQ68RChSA9MgkDJzIgienwe2cRoyvxwcIzOW5fqILCDIghp9h1P6axkMpmzTS+jw7Bee0KOh32EYFpO0ZB+e434noj+CqkL23kyt6mVJY9QOmiP44QADltzcYmBvKlQNok9ND/iDi/8A9aqpJZSApF85BDdCVjEx7DA3COGYGFNESj8R8eH8OpuN3sjmbcE3CJiQ3tOJ1ialXDDebTP2z++Ptq+nxINHy2g25U9pJu/qP+0aqo+pSRI95zzH/wAazMxaXVeIqfSPwv4otLgqcIajLfEgsFBZmgKYUmW3IO+hOM8RrOjtUEMwwZkhYwoHyemwBGYAK7wevdSS28sHIChsEEgzEc2CRG286Y1kZvSbGY4mSZgdNgQAoAkYJ9O40gKF7SW7gfBvTVirJUKgyVY5qk73k7AkjffqADl2fHHRQa1pZSFsBFl04XIJuIB5QST1EaSUuDEHmcKsXO/qqE5BlThJwFGTj41Pga1N2FUI4MRTLHmYTzMBJCSTMjqCBOTrgLoEQkeYbxnGvXqczSqAZUBUAA9IzhQSe8n2EFpwPAh0NFsF6VSDzTH5YWMxzK7fttbhalOSpmAD6Vn/AOgYM4E/cnTzw3iPKDNBNWkpZMnIlWcf+58HG2nygquoEYE1Ka9G0EI6sKgULA3W1MMJPMDTBwc8vQxoXh+FFNjElCKYM7K9rTPvfJn3On3iVSmFFRICiyohIj8tiouPaxlCMN7bR8+qqoqKIBFQXQO8AuF2ysg+4BMktAnjydrH2IGHfcVeFV2vaiBL03Dooxsrb9ZIb9RHXU6oPnXEC17mUGc3Bb1id7qaN33Igao8SpGk68QpM0yBVABwp2b3TAMzuFJiDqzi+IWlayMoFXImbWI6XbBxtO8DIIGNAq+QkWJ7RjRUMjGlDVDIqBmtKrsxAHO+ARuQBBicaLp13gBqaAuJAgj+WSSZFoCKO+YEnGlnC2uGby6bwf5edD0UhTcCMfQVIzM51wcaijlVg8gEHy6n63RGfaR00jKWur+/v2jA1DKniNOk0r+Y6SWIJIvMAHPU2gAbDB2AlXSd6hzYPy/KVQwtRJYuxxlmBKDsJHUjVvmM1ykIQ4b1diILbBidx6gAJHxfwsgAIhUBSoNNUSACATdHKpjcTg750CBjGxuENZ1LBTmq4SnMSWZjALSMmMgyDjeekDUOJ4HiFBuRQu4EBiTvgygU4OLdG8LVp0VLuJOLACp2J6uGgZEWjrNw1Gv4sPOcU61FCgW2xjUIaDMw5Nu2JXrg4JiubIWAUQlFGz9YupUKqrfb+WcZIgwSDzKWEyNid99XMjFbgzyPomWEfqG3+k9hvjRlXxy55KoWYAuFMpUAgSUaCJH1iY6mMHnF06TLfTJQQCbjMfP8pzG8QT3k2TM4/OJN8SnYgdembYIkHMH0kAjqCI7gwOmQN6KSFm5BLqCffGZ2htiDue41Oo0gxcMlWHW5Zz2ugE/qM9AkqAkTDHZW9xGR/L9H6auDu5GtVCm4uZlSD2iLT1gjdQcZ6R7jVbvUbYIp+oBgDPWVUEH5x+2i0deqrdBZnZgSN5MgwB9gI0HxLs7hVAjEYJNw/lAMyM5H66qrSdboSkXSbn7gAJ/hzgwfbUXSNgxMeqy2f3A/edvfTL+AqEcz2jcAhLsTsoDE/wBfvoXiPC688rBaajmLTcSBPRTDe3t+iZOqxJ+Yyi4HftM8ycWCYjfLO1Mx1x5a3Ttuf/OjuH8P4iqMMxyZKAEE/wC/9dOKPCKCbpIWS5ZZgiMWzEzjP29mDVvNRSBC+qHYoAWyBOLmjOBAkxvrz8v9QJNYhY9zNS4DXqP8RB4n4TQCsy3LUBwhmagPUXbtIIkEQ0E7jWXp8NcZ5TiDgznrtgZ6zo/iPE2qLawCgWxaQsNuGMAXwIifY/NVFbVAER8mOvQzrT0+NhfKc7jxGPhfhdR4IlUJwQP6SC7TB/TAGrvHfAGfh2YKwaCZIYXBQWwqjJkDvIMxpx+GWCJAPRusXSB6YjOYjoV0945qau1RQoQoSbYWCCbQc+oqYxu09NeP1PW5PicVOr7S6Ylq/M/PbqBsZwCPvn9sjVlGrBk9Adu8Ejf3jVnEoAYAxLKomTgiJz2I/fVFOmTgbkgdOuriUjXwqsfMpoTnzgdyIkR0HTWs4aiGroIJtkxcXdsjGJFNJz3aJM5OshwMpUo1IgIyYEFmMztMzmP01ua7MK17kU0MnyU9UGf7Ro5mI7GN4nWjGddpHJrzL/EOFDBhUO8iZBGREYgdMgG307gAtzhODZwFp9RMkjmA3YnECMR8ARpj4dwzVGtKxTBUupwWG5GZYKFxmIg5WTGgo8AoY1AitUJtVgAw35iAPUc2gncsY5Y0zdRwgGMmIOH8LtAAq3EKNkrBZ3HMUVB8lo6TnTHguHqU6uVAYj0tykgFtwRm4GARI+dtPvB/BnpyyMoZzzFQJloIkswDLvhVgyT1jVtbw7IVglSkclScq08xQEkqCDlTiZ7kiI6sto9oGw0bEyXhzWRQwadOoxUnMUqhFyuNzE56TJ7RbwilISkGZQx8sE8xWcEMY5uhkdp3nRX4jW0gIc2BldgZNpKsjXGeX3M2sQTgHSPiOKKAKq+o+ksVOP8A02MAt7Aqe+x1oROYsRCxujGzOCpYKyM2CCRTImQVAYW7gEEzkbxoZqIKlSi0wfVNM2NI2K3Wx1xkbAgQNR4PxJXeTLBvU82shH8wIUmexA2G86sPiPkk03LBeofBzMRgQPueu2+uT0mvMnkDH9orP4bpKSy1TTKjlButydheCV22kzERjXkBtEM7MMFjdiJ3wsbbY08p8XRgvTqMvLkAgiM5BX/4zpZxPiRepBUnOLxyxAyLiFz1MyT7nXJkyliANR6HHfedoB+bBImCwiI/lk+o4BJ6QYnOiX4wzYgPLnLE594wANoMYIBO00BgxBqPYYws85WJOy/loYnAB9jOqyiq1qgLTByNrs4BJ3G4G2M4AgsVQk33gsiF8O6vU5QWYkwSWYkdgWEnGfaO0auZWglpVlIgMpEExGQN5x3wcDUuDpWF5YXErdmYXy3/AC1AkRemQNxHUSYPUZ7ROPMYjtYwWwDPQE75B31NcrluI7QPjWuRMGelcWYLBAB5PUWMiQBuZHtgg9TB1Eryh+WmwNrYwGBDRnABIqDtBHUEgcHctSo7NCQZaMm0jA7GUABgQDJ9++J1WNUIMGCDB3diJzgA4Gcd9Mzk0p7RlWtiUpxJpu4IVShQlVyMM6iJ90j4Gg+IUHCH8p71jERD79hg5+didGeMVAA7OZZ1uaZloDDGMz0HcnQvgnDVasQIVVy53AZsn3JggA75zvq5ZVTk2pNVPLUM4MvVcU0uZZxghd56mYGOb272y0/gQptDFhtUbYZGQcFmwcA7nYd5eFAWNUpiHcAUw3SmuA2Ii4gxtJIxjEafiXl0wSL6nppiRDGM1IAwggmeoGCRnXk5+qfISqaHt7ma8eJU2ROVKJQAsSpK7AS8Tj3H9dSRJYBVUCLjLcqjckn62J6jbPWLYecA5QiWkGoWjEnr0kAYBOMYmBq/jOLRbS49whyQswWYGAT1AJgYFs4OfIrkC9ywIkHpXqptFiwQCRDSfUQehnAPTE5u0CnFIWZaallBMuwRlLGCYuhZM7yTgbDeVTiWq3KqmJny5AesTALVDgokW7xIkCMRzhuGqr/yjVqLhg3LSWYJFNAufdxjO5kafEnAer+LksjWNT5yQCIdZA6xBke0kjcZ99M6NVCSqg3j6Xn37dMbyPjSxKinAZQFEmW3I6wSP3MZ1dTcKsGoGAOQYkbRnKRmNxn4x7a5NzMVuOfDuJamSUghsMokgEdukiT2knfsX4n4060ahVVBtIEhpYHBiTjJ2Eg9dJuFqksQnXYquZ/w9h1Kzv7aA/EAK8PKx6lB6QADGDnrv7DUOo6TDvIRuNjd7CXqZrjK1xkCF6CMdsfp+2u0QWkTMsMdzn99VFWMjJCA/YT/AEk/vqKPER9/nWFW3ua4w4aqBVTEKCFMYwGG+N4xOvp9BwYdXp0wwOYBqTn0wDHfr8a+VoFOZ2jp1Nx/8ffX0ngqjMiQ5AKAqqJc0FRu0Riduw2OteAijM2cHRE0HgiotRWZrBBFScMwuZyx9mAjOTkQOrxeFtQGVMKkrtEgTHWTcc9ic6xnh1YmoLkLAOoncggj1ScqFNWRahEiBnl3VOj5qNYCCGkBWO0raQd4OINs5kZzrNnsSyH3nOK4pKQJZFtLhDIC+qF74nczGAZ1YiBXdaYnlvUGOpUCD1Jxk99WU+DZgajbmGyHuB2JtGBcJ+pQDk6p4SWlsMT6rAZtgwBOASIAA3MHBGsOPG5fk0rYrUXeO8SazPTtDVAECtAhmuuCGSPVyDG3WcA44F1uUqjqcFHVXE7ctwMERtBz11q/Ewb7ZglFVUuHMw5chhhQpJB6imJwACj8xaan0AAkKanNygDYOhG/uDr2ukJAqYs+jFvB8QymatGiQq4dL1cR/N9LYObj0PXTZ/JKK6NT5vUaRI+REshM9nE9R10PxYSVYKoLTyrIAiQSQzbk9BiBsNWUWEyaSA/z8sz3kR2986uoshhJO1CiJUlOkWimIgEs7ixfaACSx3xIOpPQX6nOP5VCZAxzRIAzM52kddW1a6iCXqM5hVW6YnsckZM4gbyMaDgyECggDKKCQF+256xuO64kM/IUYBYNiQ86JdWAOTMGDnLQct3E4xJA2N/FoP7QySYJOJ6ycREjFwg9joqr4OX53ECObBBPcjBhYnbePufcP4a1NYKu5YyABaqx035uvckzvvrP+Ix3V9pQqdHzLeFcGbpUACIhYBi0xAuzJmM8x76JSshjBGABEqrDbl3j4g9RjB0Vwfhl30C4jDHpO5WGOcDqcLuuxKq/h1GmarXiQbQsTBOZEEj/AOxrEeuwq3qJH7SpwsRrcUVjuEdBC/XVQSc5ICgzB2jOZ6EBJS6SWAWSR1G8KVxn9ck53L0eDgEBn6HEkLHa3Ls22wA9tdbwsyoZWKM0ZARQY7YJmO/c+2qjq8AP5ri8H9plq/BVeJqsi3IvKxYACQN+sqoAtBxnOZjWh/hytMopY0bYLJ16FUES3KCtxxknYEaN4mklNrLQKZ3Zhl+ypK5EkRAz1nrCsruvlGaZM2oP7QARJfpjoslRyzMhdZep6o5a/wDMviQL+8p4alyxtgC3m5B6VSZkMR03HNOWA0MadreYvNVY2pFpCsDGBJEISRjFx6AY7W4unTpgf2dIG3BNzscQDuWJJ7FvZZBV/wAKWuqORTnAQH0IBbBP8xAKgbmW2MgDBhYsS3b719frOfIK1PcXVKMi0XkLsetWpszk9UEsZMZggmdB/iPxb+FpiotCpUDEg1C1pn+YyrRk8naPsRvHfHFo1PIpoKlcorO9VrUpbEKAoEgDoIHMME6y3G/iTimp1EikiusNauSuxEsTGO2YjXo0pSt/WRXndyfF/javaUo20UbJKSajGB6qhzM55QuZ1mqlR2NzMSx3JMk/fUVTMnG5211mEbf6+/zrkQA3LzbpxNRIVKZgC0i11dh/eZSO3tto6vwa1KYrXOVLded0JOenNjpjB66z/D1wpEQQMwJkA9idj9xOtRwHFJCgNLRtJF4EZIJOQBnrkkb6x58b4uL49HzFU3oxQ/hlpWGWqsSricb+0oQRtuMRGgPxRWPloWhxcQSSwMwsTgSRzZ9+utTxFMOMcoIuG5juVMZMqNhOSGB3Gb/GFC2la3NUVlNwwAvODI+SBM4wI31pXrfjYiD3k/hEODMjQbmGSAcGP5Tv+2pYE4wJA33iJ/XOoUcH3g7dP9/56t4kAGJk5n5ge+YMifbWcdrmiSAJwBgxuPbfHz/uNbjgOOb+CoAEqxqJSOxug8qwDcRbncZx1J1jV4qWcgRdfA6Lfj22Gmx4uF4dLSCtYuSdoPlMMHtz9MyN9WQ0YjCxNXxVRlKUyz3PUEQReqoA5ApphByxiYkSdbzwnikqKX8sGnCip6gysAoIKQAwI+tbTIzkE6+SeO+JCn4gpa4LThHBnIabjFo+lgYjtrYtwAflMkDGAAIERHWMfqd9M4VrBO7kxYo1N3Q4wEMVqMQPTD0xPWJljPTNonHwp8R8XAIWqwunFJQWM+7QFOPpCneNKuF4ZWAWXuk8t49vaR2iAMjKwNG0qdOly0wARlmtI6mZLCd49Ik9uusruqdhf9h9/KUAJi6vwdRgDVtRc4guSdvpiPicQTjUh4eq4FuBk2KSB1mLj3wT06au41xEvVFrdPSW+GLFh3nB/rrp4oFYzaRIUGTkdiYkSW3PX40MeTqff5AfWcyJ5kDw6ASqsezMO8bLM79f11ZTCNBKU53xTublJ3NonaY3+c6qp+IssWIEbI5y9QmMTBJGBtJxt0jXTTquhPmMCWEvWtCqFPMTAAOD++4212dMgW2av1J/1uBeN6nvEqc2jzBmeQ3BgNzyCVG+MSYzti3wzh6SG20jH8pJjpC4HvJPX9KH4mncUp3MGMu64piM+nF/SZaMgydtVt4sLWqCi5pKt3m1ChLnECmrbjmnIA5SInm1E/HOPhRr+I1Ldx3XqUqVr1IhpKgMvf1BRN3+LIzDGMiqvxvDVVdqbO8XS+MwcgeYTCmCCcAz2jWc/gXFSatSmtVjc4qur1YWbWcqQophYIRYCnvjVfG+NcMh/tPPYYC0FVqaCTkEgUkxiVhojTp/TxQblv8AtFOTdVNKadkE23EG0Es+DGTEYONyP00VTvgEU4TqWIRYjPL1zBG4x99YUfiSs5upJRpYm+oWrPPQ7Kl3wrH3gaEp+O8Ze1tUFl3NVOH5vgZMe86sOic7IswX8p9C8koc1GFxk2Tc3sB0AM9Ou+NDVmZWNtqsuxfmqtmcmWZTE7EdJGs3wH4s4pFY1uHpPIIV6JAacbyWBGJIUgnVtDixVkrxAtwDaAO2DIBBEgQdsA5MaunSuW9QAkyaEc1a7A+azw64na35MyZ3if8ASvzyisWrKl4Hq3YSRMCCwzvgdjA1kPG+PNNTNWqxOyhsEz2AA6RtmOkazdDxNqgJcwiG9s4aICr7ktBz0+I1b4SA0a/icFYiyTN+3jvBUZfzKjuQ2VUvVI+oqTbTpCf5Yk+4yhq/jXyz+XwqgLLfmNNxMASF9OBAAb9dYqq7yamRcTzQQMT1OP30b4d4VUqhAkEzLNMqs7Axu0CYmR1jSBOTHvH4KokfFfEqleo9eoR5lQC4KoCiAAoH/Svz99U8UkrTp0paVuYjPMSTBifSAPvceutl4Z4HRpQSA/UtUUMPsh5Z+x6aY1eLW0YI7dDjrjb7fadbV6Q8K7SJ6gXoXPnL8HVJjy3AAE8jxHQ7bHXE4ZwDCNdIxa236a+gs3LALATMcxlo/lyWbpmd9CG/6nqLnCI5Ef4jIF3sCY/rUdNXmd8f9IAKilcKLoi4EhskGJJz7CT2+JcPSYIzKt6gyQJDrEZxlSP7pI23OND/AMK65RhsDscdfcdszo6mSGBQspEw6GmJnEMhJDCP8tZMiiqSMGrvDqXH3oJJKt6XtySIkFTi8bErj9dCeO8GvkVILMbbmHlkEjABJgeksp+w1bQrKX/OWtS3J/h1JUn4uJUx7HGOURpnw/CpaQ01EqA23h0NjDGLAskGcnqI7mHFVHEAj5f7/wCw8t3f958npySe56/JGp0mgh8SGmPbHTt011aVsEkQc9+pA9jka9xHPVNg3aFA9zgD+msvaaYY1MBFRTIYgv3JDsFA6jlz131Ki71qq2iTcgAn6mIXr0n9BjpqBrrcisgUBSpJAMSAA0Rgg8366uYwDzBWLyyqApHUwegHTaCPfTjRgMn+JscXVBEc4MER6lXp0/XT78J/iiFFDiG5UgK5+kAqBdjKDIncSOgOlPj3ELWWlxKoLwltZbYW+SAYk5z7fT30lrkA4FptEzO5H9CD9/voPRM5e1T7rw3GBFuZgAQObeAdpkwfaR99B8Zx6ETTZn2N10hhJ2a21c9c7ERnXzfwjx5fLVKlVkKGFIRSSp6FiJEHtGI6jWop8QKACs4Rm9MsS5nAhQSR0376ri6dG9V7ksjkahi0iXvIAPQkEvi2O7TAjtnptphw9LNzCMb1GkgdoHT76zo4qtLBXamD9UA1SfYZs/XfSXieCViZp3kxklCx6SdmuPzj216HwnqQ48u5mxbw1sFapcmeZqhAIxELTtPfIE7RqNbiq8+XVdZJ2ip6TPR8xO2QN941iLuIpPdRLrGGUBSrDfmtAuBx6hjudPv/AMiDLavCOWtFyhLVX/rt8wjPqZhv9xJsZv1CV2O0e+SiwrElhm1VuEmCbohBuDzEEz10J4lXplnpkqahWxmTnZFYgCHMJS72gXY+2lC1q9dQGqlKPpC0hM7YuM/+0GeujvDaShbBbaGWQskAT1IzJ7bf5P8Ahz5gBqUnhhWAeoQwIDCmAIlrZECWc92Y4PvjVPEcC1xN3pOF2AWdz0kn4HxtpjTEgGFAyCZM4J3Pf4InA1DxJIAAkNntbmRJJMx+pJjGNWC+m6g5bgtSmcgSs7s2MZ6TB3MbfA0s4umM3KSdueSZHUquw7bGJxo6pxCUwCXuHVsKZ7CTJMH5wYAnXqRq1AQitSpn0Fj+Y3U2LEqInIE7GTGhyHzj3M3VvNSECI5UAJTUi7OxGOhnmwY1o/C/BaqE31CpYAFKcDI7nef8JBAMzmC28N4enRQmmeaYLkDfYAb3OcRv37gX8JVuIIaS30qrFwpJiInJa4lj2YztavFQbaIWbxENX8OGopDPVI7lpPTcnAnf3gdjJ3h3gKggNDRlQ1pAA6wAF26kH50fT8UVjbtsBgW5xIOFOM+qNpgDQj8XUU3+U1RGuMIGZj/ITiWTGSAIPQjOmJxKbqTvIRLeJ4QTav7/AKz8dyftnItFFbVW6B09zgkAdjuYE9zJMDpULhQrFi3NsbyOrBQJtGFA6Rn3Bo8cGq2uHDABogS1Of8AlmYsgXEyDvOBixyqPMXgxjWumIGWYYAyT3HwNyepIG2ofwDFCYloknBtWSCRMCYuIzn2mRdxyFLCmRVGCqhjacF0VQblCmA0WD/qOgV8TpeWTKhAsshkEAHAzlvTLNkkhR1gT+MpvcYY6nKamBBO2+Zj5AiJO/X3nEuH4ZYkmT+09Y0Hx/jtNUJuuJOwDLJxEkrEATBBxBxIB1TQ8UrAB3pgoRylbVB7QHaYjYwBqq5sd7MRsbntMxwfiRUAEwoJ6A79Difvk/5NOF8TYMCtWG6G5JB7gEEie++s/SXBAU53yB/XVhQATIAHTac/9zfoNeYrkLVAibCoMc8d46znnruzRBEkk7doGor47UBxcB/eYsSI2jIH399JeH4cMSYwBuZj4AEH9dS8wgNBAGMAxvBHT2B/6Y66BykL2AHtUPESlXUvmQFAAGcECPfcyY99QbhiFZiOrAR0KlZkRtzjU/LHls05n9f/AK6+7DUFMsBJhtwCdzuNt5HY9NZDKTlZsg94Jx7CcbRqbksFMSZPMZMgnr95z768tQKzAgMuQAZyJ6EbHrP2yMHiOyXptMCJGCGBx326aE6Qp12WbTjE+8QQD3yP20TVoKtYi427q3bGJnt6T8ahWUBFjcyD8C1gfmWI+2qLY3xgg/v/AOddU6W0+YgCARaADgEbHPTP9TtGmnhHHmmjIE5ww2BnruQRMRtI++k1OmWMADfckAfcnA018OQXraZZ6RJuLYZXIMFc5Vcb+rrqmJiGFGBhqX1OIrE89R0g4DCzeBkW53Htoyn4y4wc+xUSR1kGQ3Q8rA+2psxsgkhW3LMKidZmDcO2xMdN9WeGeFUKiqajinJBAUNzHvbGB+h3iNbg+TlSnciSoWyJf4e9KuNgHJhYEiZAwMgSWAkwBkk9NGcZScZKXsItRcgHoTPLHSRvMCZB0PV8JWmQ9KuDJ5RDScCZY43AMddW1OM4hIph1wJDENIJAHKBJkBYB6TuNMTkG7ighu0ooLVSsPOVlVhyICKjkHYIC3KkkEkkDC6cUQQIJBDMANpXIEEAWgjaQSO+lfB8cRSc1WvGAQJUsy56gO7MQDuQLjvMaNp8eq/w9JldEDAwVYWqiqVun1EtAmFG89NEZSENwMDYlScHXao6rUeEqPAFkSZMBmIM2wbQSYk99Hf8FckLUcocwCVXf2DEEZiSI1DwziqPEVajorAML/zgyAr6SykNZlgBJOJPdos4DxenUqiySzSwARiFwSYNpMEA7zkAHS480GQN4gtHh6K1bEVRVAyWYKR1kkwY29MDOrq1SpLC0QTMB0honrdcwidyRvo6nWZFLWqFYxcpVixJABJiRyEkGDkqTtoCvxdd3daKKCwMSSME8pmO0fISPqOmOR/AgRr7z3iHBVmRMZF0rceUQIIA+oANgweYTnOljLVWnBWwWzEMBADA7+5mds9IjVnG1+NRXpyHq2qZVriAgY+jEksZJgzcBmMSo/iluHcU6hkhxdUDBiUIBLXEG9mgi6YAwBidQZgxs3cam8VKKScRxEGmrVGp3BUVWKrIW1iVBkyrSW9UkSNWceONDWvQqFhUV2skggQTvzNbBA3AKkjrN/H/AIqpVo82jcuQM89Om0fcswnc2jGCck3wzjaTDKotMcxWqaZwI6Gl3wEVRODnbU1QjdxwfeL1r1FJV6TgOGd/NDC5jMBwxuZQRaN+u0k6E4uq5pqIZWKhahcMASw5uaDJYgHbtHvdx/Fh65ejTpU0k8ygIkZ2WYVp6+5640NSqqssQGCYBXy2LEzgEkhcAS3qHydaFQlbMBoRjTrUgEUVVNqhKnnVKSlgABaJYSmARJkEaUcL4S7BqirCqxHqFi4AEktbIMx/iPtrSeFUaQVod1MkXoVQKR9NNWV2cjq0iSDB0sD1POYPNSliWqzTkHH/ADRZMCIg9BOiU/iKhF3uVVODVlKlAXOTDXbbehCQJ6F5220O/DIUCqKZg9jSk5B52dS8RHUDpqfidRuLrAow8ikIBzTWwAElhzQBypgtdiN9C8ZRNMLU4NmCMWVhBCgiDylwJmdtxHWQdIhsbjtQOpm6C4wAfgmf6/5HRFCgZIJCQcK3MdhvjGCMgdu2qqFYEywPzJP652+2rKrAkQZjG25J9vftqSrYAuUuWVqttM5M/PT3zkfI66WhjBI/3O/7dtM3Aem20gdBGckSYzses40qBn4Gf9/tpOpvkB+kKyxlUFJJtIlo3EnP3iNX8MygItQFluuhYDxs0HpIB36hT1Og46+8RImT1+NXcFTLOl3ovVT7XH9eh1lJjSyQ1PIFwMKRuZOSx69h8ntriVg1q1MJcuwiAYDH5gA/rq2wLgnC9pBk7EY+/wAD40LxCwbcZg/GDg++cjvpiNQQnjS5uFRmdlaA8zKrymevRIzgfbVFWlJY5FoXHsRGf2/XV3AoGfmhUCyfgDpjckT86qNQsxnF46bR0HwIGPYa4DUMqpjICzJkfro/hnXzAxJACtbECSWOJPsc7np7aFCeoiLRMCcmTEAxnE59jq2o4lcsVXaOhIn/AOX9NFdbnR94WFrl6tVWqlCBTUsQse8BiTHzBOcaanxyrTHlsKhMMylasgCTaCKiDYY7GMZwMh4HxFMErVWQcgi66R0ADAGffr86YeRVCu4IVFY8pyZED3BF3LvmNaceQ8bX5ybIpPqjY+PVITzLASha6ow3HtZEkgEDMj9rfB1HF1/L4grbTp3GpSRTJ5YAuWFwT9J266QcU5BRyRBFoJgmImcoJAlYI7e+nXBcNwa+cVqxdwxYczStTNsQBloUgQeu2NLlzEELZ37Q8B3EKC0qFZnpPfQpfl+U9l3EK2KwAAWQuI5csD2nTGj4VNcLRqKaQtrJVABZ6bTCNkFhIOST0651mP8AidINwAUctLyxVZgQAQ5LDsVIYzByNaTwXh/KXimoVT5SmFYG61LSy2mfSC5IIHzM45GJ9P8AmK4HeJKSUaTVVV/MRKvk0w0tIDoGJAAlGRarY2jpIk3jeE42mDWp0DTEEl0rU6l6ZZh6yTIkxk/GhvD/AAsUzxSOjJTtZ6ckEwtKpaRn3XO+Rtqk+L0BShOGB9MHKwWB5iEHqxsSRvqosLxJnEWbE1acXT4egsNdSFFT6g5JKi0GJCgkhRAJgSYUjQniPj9EhCRfzPsrK1iT1L+lmMgADf2OsRT48GkAw5BYAQYMqW6CBcUa2TPpH2b+HOGZjxEm1bABFrsFbkJwuCFlZ23JA0DmYLqL8FbuOeK8azTNLh2ZGGWL7b2j1nlmD0wD76C4c+dTdOIbzKlIXWluI2VC09VQzImMlo0Fw/8ADU6lQq1q3NDK1MYhY5Wqhom7AB3Gcatq+KUKPEvVSnRrUxSTFRizBpgkEE80kkiQADtjQLEgG6/j/E4Lx1Up4mmqVS7cPUq0npqVFP8AiEsfG7OqljiTuMjONWeG8PQh2c1VwPy2JBUkxTH0ksbSdwACMjcvuINQkn/hdBW3g1AcA9ihH21nOP8ADuIZ/OemlGmzoAiFYkZS1SRIzvIAnpojIFNn7uHjy1GPDVaVFpUwLS12TCAAYIAkMVAkbiTnoRUBcip5dNjgmo4Ym5hIWnTptczbGSTAHfWQ4t6kQARyIhmMhCIwCYiBme/fTTw7xdkW6oJMFkyYAZmDMBvki3vAEav8SwRUBSHnxBqTlgjChyoSVcFVG0XQJm9jO9xnfXanjbOqxQclTF71FRCZMLzRNo6BhmcDfQHiXi5emKdN6lRjFqhiQJyQEBgD2jftEaX8Lw3GKCVSqsCB9Jz7HJxdt30rOb0Z3AVC/CuAqVL4JF5DENFqiQea5gDJ+nJxOtJSpOCxrLVcmINFxAGcC1gwHQCIAA1ieJ8LrraaqMLjyywLbHEXe37aoehVo73JkjDfBOx7EadDQ7RHQsdEfx/2Vo4G20dQDPx10RUlVg+WQJ3jvJgnM5jb/UZmIBWZJgmIiRuJ/fHbRdETO8Q0nYkCJJJyOp+2sL5u1amipdwroRNueqWzIxNpE4jqYHfS3gKFNqgV6gRCx5jdAA2JtVjnbAOjKYJdl3NuJOMd5ieu+g+IRUbEPjIggHHTYx2P+W8ncvswgVIVeH3IIYQDgrMHaRMg9x0x0IOuBzJySZnI67SdVUgJEkxImN49p66sFImoEU3SbR0mdt9t9IDDC+H4imS19wVVNoAEseUQcRtcZ7/OrQzXyoCFYJYbD2jbGFjvA7yAtNQyyZGC3T3I3+2pfxHKZA5iTt1G32E6YGdCqVQMYtzK2qZMrORHvMk57DVNesZmADzZ7kgA+0j2xjVYkFGM4jJPVYMf9sY13jTDQIOCO/UzriYJ0IbARNxBbY+kEiQe3qn/AAjRtCnPDtUC7KBdGzK879OUge8aUpViREyIzOMzj+n3OiafEVaSsmy1ACQRIYdD9vb3GuVh5nMDWoIxknTbwvxcU7lqBmVipIB7GTv36/6yFSVIj2M9P99NWsuTIggCf6T/AEOuxuVNicwBFGOqnEpUi/6ZYkkj1T0A7nABjIzqfDurqFxAgekALMbnocnOTgx3AXg/CtUDqqPUtjClRbOLiSDj2jV9bwtgoUIrOMtFQNuMYVd+u+tCsSbqIQI7peGI4U3IpGBKo09Ls1Bhpn9DqPE8FU4ejUWnVS1lAqLLXOBcBygEyJn1ESB0EarPFcRTAVeEG0ZEttHRR8dcap4zh+JqKV/haaAqdqXMADMgtJEbSsb6o/bXf9oARcoASxRVqMSB1ZyPbcgYEDBjl37mU+PpUxPD0wzEWhom0tIEli0AHPwI2J0EtBKaMWVOZKZRoiLwGiY3tun4GmdRKbNTSkQxAIaFiCFRmYyonZwckC0SJJ0hyAUtfP5R+Hm4l4vhGIQITe7BWu3ZzDKwO4Jv2+cmBqtuCq01DMtVUlWu9O4IJXvMjPbfT2t4PSNpL1KZN1TlJe2nBFMKJyWIkNOzA7bV8R4DTpojM7tUIHRMu5lQCQZASSZ6gAb6BFnUEU0aDVma6qzWA5FhISYJNxXuM6ureE0llVqO30nbLcp7SB065jRCeFG6rUotaaZhWzLGSCREC0RnEc8ZIjRNHiXdaX5VQ1FhgqxEqc1JOCCT12223ZFU3yu5xvxGh8Tqtez1n29QNoAx7wekknrucDSitUrFqYq1VajdcxqU0VGZTIVmQNIbuehPTUa1SolValdClIs5K3KxJVWYAZJUA4if1OmfGeLU6sypYlRySwBu2AAaGxMEGMZGANWVVfXmS2p7R2fDmEFOC4POxWrhs9LaUbde06ytbw6kaDcRUZPMvIFJRJi62BLBiFAO+AF1BfEayNTNKqqC9UtCq5UGQDARVYdY3mM9p8b+GKpQ2v5izdaqFZk7jljqcT7dtAY2N2LjFlFbhHgvg6GKtPiCrsrYClWSZGyqYMT1OPnQVLxM+Z+ZVqmmCQtoRqjdoLzaOk9BGNH8N4fXoWiabIJH9nUMAgCTdb+374GkPFUrKpUHrykgriTzCciNt9wdP6gaAoQAg+bjPjeMr0CWRK1MMIC1z5uMQwDIAGkjbGfbMeF8arVCQagpgAcqX9MbAnShaygm9mMn6UnImFJLAdiTnYaKPH2NFJqqg7qCaZERA5NwM/r7a5WE6iIrWhBEbkddsj/XVTVCvuCCI9pMj4mdd17Xl3ct5hH8ZdllkgHIMTJ/3I2MnVHGVAzFu57DXte1cqAKE6W+I0SGAJBBAI7gnfptcDj30GrTnIYEZHaP64317XtSYVUMvp8IWvzkZ69mJ++NR4IZU780Qdu+va9rlEEKZC1J2xaGAj4AA9pzv86WHb317XtBvE4TxXE6upsbo2x/lJj9Ne17QAhnM07WUmWU/YEspH3A/fV1BLsnP9djj9F/fXNe0yDc4w78NVArsWWVgTtcJO6yCLvnv12L0+IcM9yAcQBaTlkg/YAR39/bXte1rQkIJJgCYDT4Cg4JXzI7G39OuMaP8N8AQmKdQoSI5qavgiTksPbpPuNe17VgoN2IjEgWIkuNzIWzTDQIxCgqBMzsTuD++LvCfEWX8sASQwJ6mTduMgYEgZMDOu69rPWpS9wgfiNajuSh/MbbYWnBTBwoQkAx0EiNGcFx7cUysIDiqYuEre7SDj6VGY6kCe+u69oobEJEa8BTSncyottNQbrR5hGy8wE3HJYz1xsI7xFxVixypGf/AOlRQ4P+FQQR/e9t/a9qh1VQxOrI9WorKTSSmUVT3aAGPvmSe5J1FVp0SVYMwvFMNIu9CsJ9hMf16a9r2mU0w/eI24FxCqaZYgSiqFYCCbjbLCYP83WTPfQh8dlQGDFhu85OZ/Tpudc17S5MjITxhAB7yVPx4j6WiQf7R+mf65Ebap/jbuaDdgXEkmfvsB0jsNe17QOVmO5xUCVl7sRgZ3P+52/TRfk5g8zdZ2+2517XtVSI0//Z'  # @param {type:\"string\"}\n",
        "output_image_size = 384  # @param {type:\"integer\"}\n",
        "\n",
        "# The content image size can be arbitrary.\n",
        "content_img_size = (output_image_size, output_image_size)\n",
        "# The style prediction model was trained with image size 256 and it's the \n",
        "# recommended image size for the style image (though, other sizes work as \n",
        "# well but will lead to different results).\n",
        "style_img_size = (256, 256)  # Recommended to keep it at 256.\n",
        "\n",
        "content_image = load_image(content_image_url, content_img_size)\n",
        "style_image = load_image(style_image_url, style_img_size)\n",
        "style_image = tf.nn.avg_pool(style_image, ksize=[3,3], strides=[1,1], padding='SAME')\n",
        "show_n([content_image, style_image], ['Content image', 'Style image'])"
      ],
      "execution_count": null,
      "outputs": []
    },
    {
      "cell_type": "markdown",
      "metadata": {
        "id": "yL2Bn5ThR1nY"
      },
      "source": [
        "## Import TF-Hub module"
      ]
    },
    {
      "cell_type": "code",
      "metadata": {
        "id": "467AVDSuzBPc"
      },
      "source": [
        "# Load TF-Hub module.\n",
        "\n",
        "hub_handle = 'https://tfhub.dev/google/magenta/arbitrary-image-stylization-v1-256/2'\n",
        "hub_module = hub.load(hub_handle)"
      ],
      "execution_count": null,
      "outputs": []
    },
    {
      "cell_type": "markdown",
      "metadata": {
        "id": "uAR70_3wLEDB"
      },
      "source": [
        "The signature of this hub module for image stylization is:\n",
        "```\n",
        "outputs = hub_module(content_image, style_image)\n",
        "stylized_image = outputs[0]\n",
        "```\n",
        "Where `content_image`, `style_image`, and `stylized_image` are expected to be 4-D Tensors with shapes `[batch_size, image_height, image_width, 3]`.\n",
        "\n",
        "In the current example we provide only single images and therefore the batch dimension is 1, but one can use the same module to process more images at the same time.\n",
        "\n",
        "The input and output values of the images should be in the range [0, 1].\n",
        "\n",
        "The shapes of content and style image don't have to match. Output image shape\n",
        "is the same as the content image shape."
      ]
    },
    {
      "cell_type": "markdown",
      "metadata": {
        "id": "qEhYJno1R7rP"
      },
      "source": [
        "## Demonstrate image stylization"
      ]
    },
    {
      "cell_type": "code",
      "metadata": {
        "id": "lnAv-F3O9fLV"
      },
      "source": [
        "# Stylize content image with given style image.\n",
        "# This is pretty fast within a few milliseconds on a GPU.\n",
        "\n",
        "outputs = hub_module(tf.constant(content_image), tf.constant(style_image))\n",
        "stylized_image = outputs[0]"
      ],
      "execution_count": null,
      "outputs": []
    },
    {
      "cell_type": "code",
      "metadata": {
        "id": "OEAPEdq698gs"
      },
      "source": [
        "# Visualize input images and the generated stylized image.\n",
        "\n",
        "show_n([content_image, style_image, stylized_image], titles=['Original content image', 'Style image', 'Stylized image'])"
      ],
      "execution_count": null,
      "outputs": []
    },
    {
      "cell_type": "markdown",
      "metadata": {
        "id": "v-gYvjTWK-lx"
      },
      "source": [
        "## Let's try it on more images"
      ]
    },
    {
      "cell_type": "code",
      "metadata": {
        "id": "WSMaY0YBNfkK"
      },
      "source": [
        "# @title To Run: Load more images { display-mode: \"form\" }\n",
        "\n",
        "content_urls = dict(\n",
        "  sea_turtle='https://upload.wikimedia.org/wikipedia/commons/d/d7/Green_Sea_Turtle_grazing_seagrass.jpg',\n",
        "  tuebingen='https://upload.wikimedia.org/wikipedia/commons/0/00/Tuebingen_Neckarfront.jpg',\n",
        "  grace_hopper='https://storage.googleapis.com/download.tensorflow.org/example_images/grace_hopper.jpg',\n",
        "  )\n",
        "style_urls = dict(\n",
        "  kanagawa_great_wave='https://upload.wikimedia.org/wikipedia/commons/0/0a/The_Great_Wave_off_Kanagawa.jpg',\n",
        "  kandinsky_composition_7='https://upload.wikimedia.org/wikipedia/commons/b/b4/Vassily_Kandinsky%2C_1913_-_Composition_7.jpg',\n",
        "  hubble_pillars_of_creation='https://upload.wikimedia.org/wikipedia/commons/6/68/Pillars_of_creation_2014_HST_WFC3-UVIS_full-res_denoised.jpg',\n",
        "  van_gogh_starry_night='https://upload.wikimedia.org/wikipedia/commons/thumb/e/ea/Van_Gogh_-_Starry_Night_-_Google_Art_Project.jpg/1024px-Van_Gogh_-_Starry_Night_-_Google_Art_Project.jpg',\n",
        "  turner_nantes='https://upload.wikimedia.org/wikipedia/commons/b/b7/JMW_Turner_-_Nantes_from_the_Ile_Feydeau.jpg',\n",
        "  munch_scream='https://upload.wikimedia.org/wikipedia/commons/c/c5/Edvard_Munch%2C_1893%2C_The_Scream%2C_oil%2C_tempera_and_pastel_on_cardboard%2C_91_x_73_cm%2C_National_Gallery_of_Norway.jpg',\n",
        "  picasso_demoiselles_avignon='https://upload.wikimedia.org/wikipedia/en/4/4c/Les_Demoiselles_d%27Avignon.jpg',\n",
        "  picasso_violin='https://upload.wikimedia.org/wikipedia/en/3/3c/Pablo_Picasso%2C_1911-12%2C_Violon_%28Violin%29%2C_oil_on_canvas%2C_Kr%C3%B6ller-M%C3%BCller_Museum%2C_Otterlo%2C_Netherlands.jpg',\n",
        "  picasso_bottle_of_rum='https://upload.wikimedia.org/wikipedia/en/7/7f/Pablo_Picasso%2C_1911%2C_Still_Life_with_a_Bottle_of_Rum%2C_oil_on_canvas%2C_61.3_x_50.5_cm%2C_Metropolitan_Museum_of_Art%2C_New_York.jpg',\n",
        "  fire='https://upload.wikimedia.org/wikipedia/commons/3/36/Large_bonfire.jpg',\n",
        "  derkovits_woman_head='https://upload.wikimedia.org/wikipedia/commons/0/0d/Derkovits_Gyula_Woman_head_1922.jpg',\n",
        "  amadeo_style_life='https://upload.wikimedia.org/wikipedia/commons/8/8e/Untitled_%28Still_life%29_%281913%29_-_Amadeo_Souza-Cardoso_%281887-1918%29_%2817385824283%29.jpg',\n",
        "  derkovtis_talig='https://upload.wikimedia.org/wikipedia/commons/3/37/Derkovits_Gyula_Talig%C3%A1s_1920.jpg',\n",
        "  amadeo_cardoso='https://upload.wikimedia.org/wikipedia/commons/7/7d/Amadeo_de_Souza-Cardoso%2C_1915_-_Landscape_with_black_figure.jpg'\n",
        ")\n",
        "\n",
        "content_image_size = 384\n",
        "style_image_size = 256\n",
        "content_images = {k: load_image(v, (content_image_size, content_image_size)) for k, v in content_urls.items()}\n",
        "style_images = {k: load_image(v, (style_image_size, style_image_size)) for k, v in style_urls.items()}\n",
        "style_images = {k: tf.nn.avg_pool(style_image, ksize=[3,3], strides=[1,1], padding='SAME') for k, style_image in style_images.items()}\n"
      ],
      "execution_count": null,
      "outputs": []
    },
    {
      "cell_type": "code",
      "metadata": {
        "id": "dqB6aNTLNVkK"
      },
      "source": [
        "#@title Specify the main content image and the style you want to use.  { display-mode: \"form\" }\n",
        "\n",
        "content_name = 'grace_hopper'  # @param ['sea_turtle', 'tuebingen', 'grace_hopper']\n",
        "style_name = 'van_gogh_starry_night'  # @param ['kanagawa_great_wave', 'kandinsky_composition_7', 'hubble_pillars_of_creation', 'van_gogh_starry_night', 'turner_nantes', 'munch_scream', 'picasso_demoiselles_avignon', 'picasso_violin', 'picasso_bottle_of_rum', 'fire', 'derkovits_woman_head', 'amadeo_style_life', 'derkovtis_talig', 'amadeo_cardoso']\n",
        "\n",
        "stylized_image = hub_module(tf.constant(content_images[content_name]),\n",
        "                            tf.constant(style_images[style_name]))[0]\n",
        "\n",
        "show_n([content_images[content_name], style_images[style_name], stylized_image],\n",
        "       titles=['Original content image', 'Style image', 'Stylized image'])"
      ],
      "execution_count": null,
      "outputs": []
    }
  ]
}